{
 "cells": [
  {
   "cell_type": "code",
   "execution_count": 1,
   "metadata": {},
   "outputs": [
    {
     "name": "stdout",
     "output_type": "stream",
     "text": [
      "/afs/cern.ch/work/a/apoyet/bbcw2mad/examples\n"
     ]
    }
   ],
   "source": [
    "!pwd"
   ]
  },
  {
   "cell_type": "code",
   "execution_count": 2,
   "metadata": {},
   "outputs": [
    {
     "name": "stdout",
     "output_type": "stream",
     "text": [
      "/cvmfs/sft.cern.ch/lcg/views/LCG_96python3/x86_64-centos7-gcc8-opt/bin/python\n"
     ]
    }
   ],
   "source": [
    "!which python"
   ]
  },
  {
   "cell_type": "markdown",
   "metadata": {},
   "source": [
    "# LHC Run 3 Using BBCW\n",
    "---\n",
    "\n",
    "This is an example on how to implement the wire compensators in the LHC Run 3 using the new MAD-X approach using Python. "
   ]
  },
  {
   "cell_type": "code",
   "execution_count": 1,
   "metadata": {},
   "outputs": [],
   "source": [
    "# %% Import few packages\n",
    "from cpymad.madx import Madx\n",
    "#import madxp\n",
    "from madxp import cpymadTool as mt\n",
    "from collections import OrderedDict\n",
    "import numpy as np\n",
    "import pandas as pd\n",
    "from matplotlib import pylab as plt\n",
    "from IPython.display import display\n",
    "import time\n",
    "import os\n",
    "import warnings\n",
    "warnings.filterwarnings('always')\n",
    "from cl2pd import importData\n",
    "\n",
    "#bbcw2mad package\n",
    "from bbcw2mad.WireObj import *\n",
    "from bbcw2mad.knob_wires import *\n"
   ]
  },
  {
   "cell_type": "code",
   "execution_count": 2,
   "metadata": {},
   "outputs": [],
   "source": [
    "# %%\n",
    "# ============================================================================================================ #\n",
    "#                                              WORKFLOW FUNCTIONS                                              #\n",
    "# ============================================================================================================ #\n",
    "\n",
    "# %%\n",
    "\n",
    "def make_sequence(mad, mylhcbeam, slicefactor, wires_lst=None):\n",
    "    '''\n",
    "    Function to build the machine sequence in MAD-X.\n",
    "    \n",
    "    Args: \n",
    "        mad: madx instance\n",
    "        mylhcbeam: int, considered beam \n",
    "        slicefactor: int, determines in how many slices each element of the sequence will be sliced\n",
    "        wires_lst: lst or None, if you want to install wires in the sequence, provide the list of \n",
    "                    the wanted wires (WireObj instances)\n",
    "    '''\n",
    "    start_time = time.time()\n",
    "    mad.input('option, -echo,warn,-info;')\n",
    "    mad.call('/afs/cern.ch/user/s/sterbini/public/tracking_tools/tools/macro.madx') \n",
    "    mad.call('tools/optics_indep_macros.madx')\n",
    "\n",
    "    assert mylhcbeam in [1, 2, 4], \"Invalid mylhcbeam (it should be in [1, 2, 4])\"\n",
    "\n",
    "    if mylhcbeam in [1, 2]:\n",
    "        mad.call('/afs/cern.ch/eng/lhc/optics/runII/2018/lhc_as-built.seq')\n",
    "    else:\n",
    "        mad.call('/afs/cern.ch/eng/lhc/optics/runII/2018/lhcb4_as-built.seq')\n",
    "\n",
    "    # New IR7 MQW layout and cabling\n",
    "    mad.call('/afs/cern.ch/eng/lhc/optics/runIII/RunIII_dev/IR7-Run3seqedit.madx')\n",
    "    \n",
    "    # Makethin\n",
    "    if slicefactor > 0:\n",
    "        mad.input(f'slicefactor={slicefactor};') # the variable in the macro is slicefactor\n",
    "        mad.call('/afs/cern.ch/eng/lhc/optics/runII/2018/toolkit/myslice.madx')\n",
    "        mad.beam()\n",
    "        for my_sequence in ['lhcb1','lhcb2']:\n",
    "            if my_sequence in list(mad.sequence):\n",
    "                mad.input(f'use, sequence={my_sequence}; makethin, sequence={my_sequence}, style=teapot, makedipedge=false;')\n",
    "    else:\n",
    "        warnings.warn('The sequences are not thin!')\n",
    "\n",
    "    # Cycling w.r.t. to IP3 (mandatory to find closed orbit in collision in the presence of errors)\n",
    "    for my_sequence in ['lhcb1','lhcb2']:\n",
    "        if my_sequence in list(mad.sequence):\n",
    "            mad.input(f'seqedit, sequence={my_sequence}; flatten; cycle, start=IP3; flatten; endedit;')\n",
    "    \n",
    "    # Install wires\n",
    "    if wires_lst:\n",
    "        for wire in wires_lst:\n",
    "            wire.define_in_mad()\n",
    "            wire.install_in_sequence()\n",
    "\n",
    "    my_output_dict = get_status(mad)\n",
    "    elapsed_time = time.time() - start_time\n",
    "    my_output_dict['elapsed_time'] = elapsed_time\n",
    "    return my_output_dict\n",
    "\n",
    "def load_optics(mad, optics_number):\n",
    "    start_time = time.time()\n",
    "    mad.call(f'/afs/cern.ch/eng/lhc/optics/runIII/RunIII_dev/2021_V1/PROTON/opticsfile.{int(optics_number)}')\n",
    "    my_output_dict = get_status(mad)\n",
    "    elapsed_time = time.time() - start_time\n",
    "\n",
    "    my_output_dict['elapsed_time'] = elapsed_time\n",
    "    return my_output_dict\n",
    "\n",
    "def get_status(mad):\n",
    "    start_time = time.time()\n",
    "    variables=mt.variables_dict(mad)\n",
    "    my_output_dict= {'constant_df': variables['constant_df'],\n",
    "            'independent_variable_df': variables['independent_variable_df'],\n",
    "            'dependent_variable_df': variables['dependent_variable_df'],\n",
    "            'sequences_df': mt.sequences_df(mad),\n",
    "            'beams_df': mt.beams_df(mad),\n",
    "            'tables_list': list(mad.table)}\n",
    "    elapsed_time = time.time() - start_time\n",
    "    my_output_dict['elapsed_time'] = elapsed_time\n",
    "    return my_output_dict\n",
    "\n",
    "def run_module(mad, module_name):\n",
    "    start_time = time.time()\n",
    "    mad.call(f'modules/{module_name}')\n",
    "    elapsed_time = time.time() - start_time\n",
    "    my_output_dict = get_status(mad)\n",
    "    elapsed_time = time.time() - start_time\n",
    "    my_output_dict['elapsed_time']= elapsed_time\n",
    "    return my_output_dict\n",
    "\n",
    "def read_parameters(mad, parameter_dict):\n",
    "    start_time = time.time()\n",
    "    parameter_dict['par_qx00']=int(parameter_dict['par_qx0'])\n",
    "    parameter_dict['par_qy00']=int(parameter_dict['par_qy0'])\n",
    "    parameter_dict['par_tsplit']=parameter_dict['par_qx00']-parameter_dict['par_qy00']\n",
    "    assert parameter_dict['par_nco_IP5']==parameter_dict['par_nco_IP1']\n",
    "    assert parameter_dict['par_qx00']-parameter_dict['par_qy00']==parameter_dict['par_tsplit']\n",
    "    assert 'par_mylhcbeam' in parameter_dict\n",
    "    assert 'par_beam_norm_emit' in parameter_dict\n",
    "    for i in parameter_dict:\n",
    "        mad.input(f'{i}={parameter_dict[i]};')\n",
    "    my_output_dict = get_status(mad)\n",
    "    elapsed_time = time.time() - start_time\n",
    "    my_output_dict['elapsed_time']= elapsed_time\n",
    "    return my_output_dict\n",
    "\n",
    "def cleanall(file_string='fc.* *parquet twiss* log.madx stdout.madx bb_lenses.dat last_twiss.0.gz temp', rm_links=True):\n",
    "    if rm_links:\n",
    "        os.system('find -type l -delete')\n",
    "    os.system('rm -rf '+ file_string)\n",
    "    \n",
    "def power_wires(mad,wires_lst,table_out):\n",
    "    '''\n",
    "    Function to turn on the wires as done in the LHC Run 3.\n",
    "    \n",
    "    Args:\n",
    "        mad: madx instance\n",
    "        wires_lst: list, contains the wires under the form of WireObj instances\n",
    "        table_out: str, name of the madx table to be added to \"twiss_\" and \"summary_\" \n",
    "    Return: \n",
    "        my_output_dict: dict, contains the output info to be added to the working flow DF.\n",
    "    '''\n",
    "    start_time = time.time()\n",
    "    \n",
    "    # Turn off BB\n",
    "    mad.input(f'''\n",
    "    ON_BB_CHARGE=0;\n",
    "    ''')\n",
    "\n",
    "    for wire in wires_lst:\n",
    "        wire.switch_wire(on=True)\n",
    "        wire.print_lense()\n",
    "\n",
    "    mad.input(f'''\n",
    "    use, sequence=lhcb1;\n",
    "    twiss, table=twiss_{table_out};\n",
    "    exec, clonesumm('summary_{table_out}');\n",
    "    ON_BB_CHARGE=1;\n",
    "    ''')\n",
    "    \n",
    "    my_output_dict = get_status(mad)\n",
    "    elapsed_time = time.time() - start_time\n",
    "\n",
    "    my_output_dict['elapsed_time'] = elapsed_time\n",
    "    return my_output_dict"
   ]
  },
  {
   "cell_type": "code",
   "execution_count": 3,
   "metadata": {},
   "outputs": [],
   "source": [
    "# %%\n",
    "# ============================================================================================================ #\n",
    "#                                                PARAMETER DICT                                                #\n",
    "# ============================================================================================================ #\n",
    "\n",
    "parameter_dict={\n",
    "    # =============================================================================\n",
    "    # Beam parameters\n",
    "    # =============================================================================\n",
    "    ## LHC beam 1 (clockwise), LHC beam 2 (clockwise), LHC beam 2 (counterclockwise) \n",
    "    'par_mylhcbeam': 1, \n",
    "    ## beam normalized emittance [m rad]\n",
    "    'par_beam_norm_emit': 2.5e-6,\n",
    "    ## [m]\n",
    "    'par_beam_sigt': 0.075,\n",
    "    ## [-]           \n",
    "    'par_beam_sige': 1.1e-4,\n",
    "    ## [-]                    \n",
    "    'par_beam_npart': 1.1e11, \n",
    "    ## [GeV]            \n",
    "    'par_beam_energy_tot': 7000,\n",
    "    ## [A]          \n",
    "    'par_oct_current': 350,\n",
    "    ## [-]            \n",
    "    'par_chromaticity': 15,\n",
    "    ## [MV]          \n",
    "    'par_vrf_total': 16.,\n",
    "    ## Tunes with fractional part          \n",
    "    'par_qx0': 62.31, 'par_qy0': 60.32,\n",
    "    # =============================================================================\n",
    "    # Beam-Beam configuration \n",
    "    # =============================================================================\n",
    "    ## install the BB elements [0,1]\n",
    "    'par_on_bb_switch': 1,\n",
    "    ## if 1 lumi leveling in ip8 is applied and q/q' match is done with bb off [0,1]\n",
    "    'par_on_collision': 1, \n",
    "    ## bunch separation [ns]               \n",
    "    'par_b_t_dist': 25.,   \n",
    "    ## default value for the number of additionnal parasitic encounters inside D1              \n",
    "    'par_n_inside_D1': 5,                 \n",
    "    ## number of slices for head-on in IR1 [between 0 and 201]\n",
    "    'par_nho_IR1': 11, 'par_nho_IR2': 11, 'par_nho_IR5': 11, 'par_nho_IR8': 11, \n",
    "    ## flag to install the Crab Cavities [0, 1]\n",
    "    'par_install_crabcavities': 0,\n",
    "    # =============================================================================\n",
    "    # Beam-Beam Wire Compensators \n",
    "    # =============================================================================\n",
    "    ## IR1\n",
    "    'par_s_w_ir1': 19848.217400,              # s-position [m]\n",
    "    'par_x_w_ir1': 0,                         # Horizontal transverse position of the wire, wrt to the beam [m]\n",
    "    'par_y_w_ir1': 0.0091,                    # Vertical transverse position of the wire, wrt to the beam [m]\n",
    "    'par_I_w_ir1': 350,                       # Wire Current [A]\n",
    "    ## IR5\n",
    "    'par_s_w_ir5': 6516.623433,   # s-position [m]\n",
    "    'par_x_w_ir5': 0.01223,   # Horizontal transverse position of the wire, wrt to the beam [m]\n",
    "    'par_y_w_ir5': 0,   # Vertical transverse position of the wire, wrt to the beam [m]\n",
    "    'par_I_w_ir5': 350,   # Wire Current [A]\n",
    "    # =============================================================================\n",
    "    # Leveling in IP8   \n",
    "    # =============================================================================\n",
    "    # leveled luminosity in IP8 (considered if par_on_collision=1) [Hz/cm2]\n",
    "    'par_lumi_ip8': 2e32,                 \n",
    "    # These variables define the number of Head-On collisions in the 4 IPs\n",
    "    'par_nco_IP1': 2544, 'par_nco_IP2': 2215, 'par_nco_IP5': 2544, 'par_nco_IP8': 2332,\n",
    "    # =============================================================================\n",
    "    # Errors and corrections \n",
    "    # =============================================================================\n",
    "    # Select seed for errors\n",
    "    'par_myseed': 0,\n",
    "    # Set this flag to correct the errors of D2 in the NLC \n",
    "    # (warning: for now only correcting b3 of D2, still in development)\n",
    "    'par_correct_for_D2': 0,\n",
    "    # Set this flag to correct the errors of MCBXF in the NLC \n",
    "    # (warning: this might be less reproducable in reality, use with care)\n",
    "    'par_correct_for_MCBX': 0,\n",
    "    'par_off_all_errors': 0,\n",
    "    'par_on_errors_LHC': 0,\n",
    "    'par_on_errors_MBH': 0,\n",
    "    'par_on_errors_Q5': 0,\n",
    "    'par_on_errors_Q4': 0,\n",
    "    'par_on_errors_D2': 0,\n",
    "    'par_on_errors_D1': 0,\n",
    "    'par_on_errors_IT': 0,\n",
    "    'par_on_errors_MCBRD': 0,\n",
    "    'par_on_errors_MCBXF': 0,\n",
    "    # =============================================================================\n",
    "    # Additional parameters\n",
    "    # =============================================================================\n",
    "    # parameter for having verbose output [0,1]\n",
    "    'par_verbose': 1,\n",
    "    # definition of the slicefactor used in the makethin\n",
    "    'par_slicefactor': 4,\n",
    "    # number of optics to use\n",
    "    'par_optics_number':27,\n",
    "    # Specify machine version\n",
    "    'ver_lhc_run' : 3, 'ver_hllhc_optics' : 0,\n",
    "}"
   ]
  },
  {
   "cell_type": "code",
   "execution_count": 4,
   "metadata": {},
   "outputs": [],
   "source": [
    "#================================================================#\n",
    "#                          MAD INSTANCE                          #\n",
    "#================================================================#\n",
    "\n",
    "# %%\n",
    "command_log_file='log.madx'\n",
    "stdout_file='stdout.madx'\n",
    "with open(stdout_file, 'w') as myFile:\n",
    "    mad = Madx(stdout=myFile,command_log=command_log_file)\n",
    "\n",
    "working_folder='./'\n",
    "os.chdir(working_folder)"
   ]
  },
  {
   "cell_type": "code",
   "execution_count": 5,
   "metadata": {},
   "outputs": [
    {
     "name": "stdout",
     "output_type": "stream",
     "text": [
      "{'current': 350,\n",
      " 'mad_inst': <cpymad.madx.Madx object at 0x7fdc1c2e2e80>,\n",
      " 'name': 'bbcw_int_l1b1',\n",
      " 'nb': 110000000000.0,\n",
      " 's_pos': 19848.2174,\n",
      " 'sequence': 'lhcb1',\n",
      " 'sigx': 0.0003333333333333333,\n",
      " 'sigy': 0.0003333333333333333,\n",
      " 'switch': 0,\n",
      " 'x_co': 0,\n",
      " 'x_pos': 0,\n",
      " 'xma': 0,\n",
      " 'y_co': 0,\n",
      " 'y_pos': 0.0091,\n",
      " 'yma': 0.0091}\n",
      "{'current': 350,\n",
      " 'mad_inst': <cpymad.madx.Madx object at 0x7fdc1c2e2e80>,\n",
      " 'name': 'bbcw_ext_l1b1',\n",
      " 'nb': 110000000000.0,\n",
      " 's_pos': 19848.2174,\n",
      " 'sequence': 'lhcb1',\n",
      " 'sigx': 0.0003333333333333333,\n",
      " 'sigy': 0.0003333333333333333,\n",
      " 'switch': 0,\n",
      " 'x_co': 0,\n",
      " 'x_pos': 0,\n",
      " 'xma': 0,\n",
      " 'y_co': 0,\n",
      " 'y_pos': -0.0091,\n",
      " 'yma': -0.0091}\n"
     ]
    }
   ],
   "source": [
    "#================================================================#\n",
    "#                              BBCW                              #\n",
    "#================================================================#\n",
    "\n",
    "sequence_w = f'lhcb{parameter_dict[\"par_mylhcbeam\"]}'\n",
    "mad_inst_w = mad\n",
    "# WIRE IR1\n",
    "s_w_ir1 = parameter_dict['par_s_w_ir1']\n",
    "x_w_ir1 = parameter_dict['par_x_w_ir1']\n",
    "y_w_ir1 = parameter_dict['par_y_w_ir1']\n",
    "I_w_ir1 = parameter_dict['par_I_w_ir1']\n",
    "# WIRE IR5\n",
    "s_w_ir5 = parameter_dict['par_s_w_ir5']\n",
    "x_w_ir5 = parameter_dict['par_x_w_ir5']\n",
    "y_w_ir5 = parameter_dict['par_y_w_ir5']\n",
    "I_w_ir5 = parameter_dict['par_I_w_ir5']\n",
    "\n",
    "# Define the wires \n",
    "\n",
    "bbcw_int_l1b1 = WireObj('bbcw_int_l1b1',I_w_ir1,s_w_ir1,x_w_ir1,y_w_ir1,parameter_dict['par_beam_npart'],mad_inst=mad_inst_w,sequence=sequence_w)\n",
    "bbcw_ext_l1b1 = WireObj('bbcw_ext_l1b1',I_w_ir1,s_w_ir1,x_w_ir1,-y_w_ir1,parameter_dict['par_beam_npart'],mad_inst=mad_inst_w,sequence=sequence_w)\n",
    "\n",
    "bbcw_int_l5b1 = WireObj('bbcw_int_l5b1',I_w_ir5,s_w_ir5,x_w_ir5,y_w_ir5,parameter_dict['par_beam_npart'],mad_inst=mad_inst_w,sequence=sequence_w)\n",
    "bbcw_ext_l5b1 = WireObj('bbcw_ext_l5b1',I_w_ir5,s_w_ir5,-x_w_ir5,y_w_ir5,parameter_dict['par_beam_npart'],mad_inst=mad_inst_w,sequence=sequence_w)\n",
    "\n",
    "wires_lst = [bbcw_int_l1b1, bbcw_ext_l1b1, bbcw_int_l5b1, bbcw_ext_l5b1]\n",
    "\n",
    "# Describe the wires \n",
    "bbcw_int_l1b1.describe()\n",
    "bbcw_ext_l1b1.describe()"
   ]
  },
  {
   "cell_type": "code",
   "execution_count": 6,
   "metadata": {},
   "outputs": [
    {
     "data": {
      "text/plain": [
       "0"
      ]
     },
     "execution_count": 6,
     "metadata": {},
     "output_type": "execute_result"
    }
   ],
   "source": [
    "#================================================================#\n",
    "#                              FLOW                              #\n",
    "#================================================================#\n",
    "#%% Make links for setting the enviroments\n",
    "cleanall()\n",
    "# Main path\n",
    "os.system('ln -fns /afs/cern.ch/eng/tracking-tools tracking_tools')\n",
    "# Mask code folder\n",
    "os.system('ln -fns /afs/cern.ch/user/s/sterbini/public/tracking_tools/modules modules')\n",
    "# Machine folder\n",
    "os.system('ln -fns tracking_tools/machines machines')\n",
    "# Toolkit folder\n",
    "os.system('ln -fns tracking_tools/tools tools')\n",
    "# Beam-beam macros folder\n",
    "os.system('ln -fns tracking_tools/beambeam_macros beambeam_macros')\n",
    "# Errors folder\n",
    "os.system('ln -fns tracking_tools/errors errors')"
   ]
  },
  {
   "cell_type": "code",
   "execution_count": 7,
   "metadata": {},
   "outputs": [],
   "source": [
    "#%% Start making MAD-X operation\n",
    "my_workflow_dict = OrderedDict()\n",
    "\n",
    "my_workflow_dict['read_parameters'] = read_parameters(mad, parameter_dict)\n",
    "my_workflow_dict['make_sequence'] = make_sequence(mad, parameter_dict['par_mylhcbeam'], parameter_dict['par_slicefactor'],wires_lst=wires_lst)\n",
    "my_workflow_dict['load_optics'] = load_optics(mad, parameter_dict['par_optics_number'])\n",
    "my_workflow_dict['check_optics'] = run_module(mad,'module_00_check_optics.madx')\n",
    "\n",
    "execution_df=pd.DataFrame(my_workflow_dict).transpose()"
   ]
  },
  {
   "cell_type": "code",
   "execution_count": 8,
   "metadata": {},
   "outputs": [],
   "source": [
    "# %%\n",
    "def from_beta_to_xing_angle_urad(beta_m):\n",
    "    return  0.5*(132.47 + 58.3959 * np.sqrt(beta_m) + 30.0211 * beta_m)/np.sqrt(beta_m)\n",
    "\n",
    "knob_dict={\n",
    "    'on_sep1': 0,  \n",
    "    'on_sep5': 0,         \n",
    "    'on_sep2h': 1,\n",
    "    'on_sep2v': 0,\n",
    "    'on_x2h': 0,\n",
    "    'on_x2v': 200,\n",
    "    'on_sep8h': 0,\n",
    "    'on_sep8v': 1,\n",
    "    'on_x8h': 0,\n",
    "    'on_x8v': 135,\n",
    "    'on_disp': 1,\n",
    "    'on_alice': 7000/parameter_dict['par_beam_energy_tot'],\n",
    "    'on_lhcb': 7000/parameter_dict['par_beam_energy_tot'],\n",
    "    'on_sol_atlas': 7000/parameter_dict['par_beam_energy_tot'],\n",
    "    'on_sol_cms': 7000/parameter_dict['par_beam_energy_tot'],\n",
    "    'on_sol_alice': 7000/parameter_dict['par_beam_energy_tot'],\n",
    "}\n",
    "betx_ip1 = mad.globals['betx_ip1']\n",
    "knob_dict['on_x1'] = from_beta_to_xing_angle_urad(betx_ip1)\n",
    "knob_dict['on_x5'] = from_beta_to_xing_angle_urad(betx_ip1)\n",
    "\n",
    "for i in knob_dict:\n",
    "    mad.input(f'{i} = {knob_dict[i]};')\n",
    "\n",
    "mad.input('on_sep8=on_sep8v;')\n",
    "mad.input('on_sep2=on_sep2h;')\n",
    "\n",
    "my_workflow_dict['save_crossing'] = run_module(mad,'module_01_save_crossing.madx')\n",
    "execution_df=pd.DataFrame(my_workflow_dict).transpose()"
   ]
  },
  {
   "cell_type": "code",
   "execution_count": 9,
   "metadata": {},
   "outputs": [],
   "source": [
    "# %% Running the leveling and the beam-beam\n",
    "my_workflow_dict['lumilevel'] = run_module(mad,'module_02_lumilevel.madx')\n",
    "\n",
    "mad.input('on_sep8v=on_sep8;')\n",
    "mad.input('on_sep2h=on_sep2;')\n",
    "\n",
    "my_workflow_dict['beambeam'] = run_module(mad,'module_03_beambeam.madx')\n",
    "execution_df=pd.DataFrame(my_workflow_dict).transpose()"
   ]
  },
  {
   "cell_type": "code",
   "execution_count": 10,
   "metadata": {},
   "outputs": [
    {
     "name": "stdout",
     "output_type": "stream",
     "text": [
      "Beam 1\n",
      "Luminosity in IP1: 1.7678594078687251e+34 Hz/cm^2\n",
      "Luminosity in IP2: 6.752103972164057e+32 Hz/cm^2\n",
      "Luminosity in IP5: 1.767709619992188e+34 Hz/cm^2\n",
      "Luminosity in IP8: 1.9833946574219897e+32 Hz/cm^2\n",
      "Beam 2\n",
      "Luminosity in IP1: 1.766884542761193e+34 Hz/cm^2\n",
      "Luminosity in IP2: 6.757965418098656e+32 Hz/cm^2\n",
      "Luminosity in IP5: 1.767608469704738e+34 Hz/cm^2\n",
      "Luminosity in IP8: 1.987375043211926e+32 Hz/cm^2\n"
     ]
    }
   ],
   "source": [
    "# %% From Sofia: check the luminosity\n",
    "summary = {}\n",
    "twiss = {}\n",
    "beams = {}\n",
    "for beam in [1,2]:\n",
    "    summary[f'B{beam}'] = mt.summ_df(mad.table[f'summary_beambeam_b{beam}'])\n",
    "    twiss[f'B{beam}'] = mt.table_df(mad.table[f'twiss_beambeam_b{beam}'])\n",
    "    beams[f'B{beam}'] = mt.beams_df(mad).loc[[f'lhcb{beam}']]\n",
    "\n",
    "def cmp_luminosity_0(intensity, bunches, sigma_X, sigma_P, frev=11245.5):\n",
    "    return (intensity**2*bunches*frev)/(4.0*np.pi*sigma_X*sigma_P)\n",
    "\n",
    "def crossing_factor(phi, sigmaz, sigma_X):\n",
    "    return 1./np.sqrt(1. + (sigmaz*phi/2.)**2/(sigma_X**2)  )\n",
    "\n",
    "def offset_factor(halo):\n",
    "    a  = -(halo/ 2.)**2\n",
    "    return np.exp(a)\n",
    "\n",
    "def cmp_luminosity(intensity, bunches, sigma_X, sigma_P, phi, sigmaz, halo,frev=11245.5):\n",
    "    crossing = crossing_factor(phi, sigmaz, sigma_X)\n",
    "    offset   = offset_factor(halo)\n",
    "    return cmp_luminosity_0(intensity, bunches, sigma_X, sigma_P, frev)*crossing*offset\n",
    "\n",
    "def luminous_region(phi, sigmaz, sigma_X):\n",
    "    return sigmaz/np.sqrt(2.)*crossing_factor(phi, sigmaz, sigma_X)\n",
    "\n",
    "for beam in [1, 2]:\n",
    "    print(\"Beam %s\" %beam)\n",
    "    for nIP in [1,2,5,8]:\n",
    "        intensity    = beams[f'B{beam}']['npart'].values[0]\n",
    "        bunch_length = beams[f'B{beam}']['sigt'].values[0]\n",
    "        egeom_x      = beams[f'B{beam}']['ex'].values[0]\n",
    "        egeom_y      = beams[f'B{beam}']['ey'].values[0]\n",
    "\n",
    "        bunches   = mad.globals.get('nco_IP%s' %nIP)\n",
    "        beta_x    = twiss[f'B{beam}'].loc[f'ip{nIP}:1']['betx']\n",
    "        beta_y    = twiss[f'B{beam}'].loc[f'ip{nIP}:1']['bety']\n",
    "        sigma_x   = np.sqrt(egeom_x*beta_x)\n",
    "        sigma_y   = np.sqrt(egeom_y*beta_y)\n",
    "\n",
    "        offlvl_px = twiss[f'B{beam}'].loc[f'ip{nIP}:1']['px']\n",
    "        offlvl_py = twiss[f'B{beam}'].loc[f'ip{nIP}:1']['py']\n",
    "\n",
    "        offlvl_x_b1  = twiss['B1'].loc[f'ip{nIP}:1']['x']\n",
    "        offlvl_y_b1  = twiss['B1'].loc[f'ip{nIP}:1']['y']\n",
    "        offlvl_x_b2  = twiss['B2'].loc[f'ip{nIP}:1']['x']\n",
    "        offlvl_y_b2  = twiss['B2'].loc[f'ip{nIP}:1']['y']\n",
    "\n",
    "        if abs(offlvl_px)>abs(offlvl_py):\n",
    "            #print('Vertical crossing')   \n",
    "            phi        = 2.0*offlvl_px\n",
    "            sigma_Xing = sigma_x\n",
    "            sigma_Par  = sigma_y\n",
    "            halo =  abs(offlvl_x_b1-offlvl_x_b2)/sigma_x\n",
    "\n",
    "        else:\n",
    "            #print('Vertical crossing')   \n",
    "            phi        = 2.0*offlvl_py\n",
    "            sigma_Xing = sigma_y\n",
    "            sigma_Par  = sigma_x\n",
    "            halo =  abs(offlvl_y_b1-offlvl_y_b2)/sigma_y\n",
    "\n",
    "\n",
    "        print('Luminosity in IP%s: %s Hz/cm^2'%(nIP, cmp_luminosity(intensity, bunches, sigma_Xing, sigma_Par, phi, bunch_length, halo)*1e-4))"
   ]
  },
  {
   "cell_type": "code",
   "execution_count": 11,
   "metadata": {},
   "outputs": [],
   "source": [
    "# %% Machine tuning and last twiss\n",
    "my_sequence_df=mt.sequence_df(mad, 'lhcb1')\n",
    "\n",
    "assert mad.globals['mylhcbeam'] == 1\n",
    "\n",
    "assert len(mt.knob_df('dqx.b1_sq',my_sequence_df)) > 0\n",
    "assert len(mt.knob_df('kqtf',my_sequence_df)) == 0\n",
    "\n",
    "assert len(mt.knob_df('vrf400',my_sequence_df)) > 0\n",
    "\n",
    "assert mad.globals['dqx.b1_sq'] == 0\n",
    "assert mad.globals['dqy.b1_sq'] == 0\n",
    "assert mad.globals['dqx.b2_sq'] == 0\n",
    "assert mad.globals['dqy.b2_sq'] == 0\n",
    "\n",
    "mad.input('dqx.b1_sq := kqtf;')\n",
    "mad.input('dqy.b1_sq := kqtd;')\n",
    "\n",
    "assert mad.globals['dqpx.b1_sq'] == 0\n",
    "assert mad.globals['dqpy.b1_sq'] == 0\n",
    "assert mad.globals['dqpx.b2_sq'] == 0\n",
    "assert mad.globals['dqpy.b2_sq'] == 0\n",
    "\n",
    "mad.input('dqpx.b1_sq := ksf;')\n",
    "mad.input('dqpy.b1_sq := ksd;')\n",
    "\n",
    "my_workflow_dict['machine_tuning'] = run_module(mad,'module_05_machine_tuning.madx')\n"
   ]
  },
  {
   "cell_type": "code",
   "execution_count": 12,
   "metadata": {},
   "outputs": [],
   "source": [
    "# Define the knobs for wire matching\n",
    "knobs_run3 = KnobObj(mad_inst=mad)\n",
    "knobs_run3.define_q4_ir1_knob(wire_ir1=bbcw_int_l1b1)\n",
    "knobs_run3.define_q4_ir5_knob(wire_ir5=bbcw_int_l5b1)"
   ]
  },
  {
   "cell_type": "code",
   "execution_count": 13,
   "metadata": {},
   "outputs": [],
   "source": [
    "# Update wire position\n",
    "for wire in wires_lst:\n",
    "    wire.get_closed_orbit(table_input='twiss_after_machine_tuning')\n",
    "\n",
    "my_workflow_dict['turn_on_wires'] = power_wires(mad,wires_lst,table_out='b1_wires')\n",
    "my_workflow_dict['make_sixtrack_input'] = run_module(mad,'module_06_make_sixtrack_input.madx')\n",
    "my_workflow_dict['last_twiss.madx'] = run_module(mad,'module_07_last_twiss.madx')\n",
    "\n",
    "execution_df=pd.DataFrame(my_workflow_dict).transpose()"
   ]
  },
  {
   "cell_type": "code",
   "execution_count": 14,
   "metadata": {},
   "outputs": [
    {
     "data": {
      "image/png": "[encoded data removed]",
      "text/plain": [
       "<Figure size 432x288 with 1 Axes>"
      ]
     },
     "metadata": {
      "needs_background": "light"
     },
     "output_type": "display_data"
    },
    {
     "data": {
      "image/png": "[encoded data removed]",
      "text/plain": [
       "<Figure size 432x288 with 1 Axes>"
      ]
     },
     "metadata": {
      "needs_background": "light"
     },
     "output_type": "display_data"
    },
    {
     "data": {
      "image/png": "[encoded data removed]",
      "text/plain": [
       "<Figure size 432x288 with 1 Axes>"
      ]
     },
     "metadata": {
      "needs_background": "light"
     },
     "output_type": "display_data"
    },
    {
     "data": {
      "image/png": "[encoded data removed]",
      "text/plain": [
       "<Figure size 432x288 with 1 Axes>"
      ]
     },
     "metadata": {
      "needs_background": "light"
     },
     "output_type": "display_data"
    }
   ],
   "source": [
    "# %%\n",
    "summary_df = pd.DataFrame()\n",
    "for my_summary in ['summary_bare_optics_b1',\n",
    "                  'summary_crossing_disable_b1',\n",
    "                  'summary_crossing_enable_b1',\n",
    "                  'summary_beambeam_b1',\n",
    "                  'summary_after_machine_tuning',\n",
    "                  'summary_b1_wires',\n",
    "                  'last_summary']:\n",
    "    summary_df = pd.concat([summary_df, mt.summ_df(mad.table[my_summary])])\n",
    "\n",
    "summary_df['par_qx0']=parameter_dict['par_qx0']\n",
    "summary_df['par_qy0']=parameter_dict['par_qy0']\n",
    "summary_df['par_chromaticity']=parameter_dict['par_chromaticity']\n",
    "\n",
    "\n",
    "for my_quantity, my_parameter in zip(['q1','q2','dq1','dq2'],\n",
    "                                     ['par_qx0','par_qy0','par_chromaticity','par_chromaticity']):\n",
    "    plt.figure()\n",
    "    plt.plot(summary_df[my_quantity],'.-b')\n",
    "    plt.plot(summary_df[my_parameter],'.-r')\n",
    "\n",
    "    plt.xticks(rotation=90)\n",
    "    plt.ylabel(my_quantity)\n",
    "    plt.grid(True)"
   ]
  },
  {
   "cell_type": "code",
   "execution_count": 20,
   "metadata": {},
   "outputs": [
    {
     "data": {
      "text/plain": [
       "array([62.31033458])"
      ]
     },
     "execution_count": 20,
     "metadata": {},
     "output_type": "execute_result"
    }
   ],
   "source": [
    "mad.table.summary_b1_wires['q1']"
   ]
  },
  {
   "cell_type": "code",
   "execution_count": 16,
   "metadata": {},
   "outputs": [
    {
     "data": {
      "text/plain": [
       "-0.00348610526342"
      ]
     },
     "execution_count": 16,
     "metadata": {},
     "output_type": "execute_result"
    }
   ],
   "source": [
    "mad.eval('kq4.r1b1')"
   ]
  },
  {
   "cell_type": "code",
   "execution_count": 18,
   "metadata": {},
   "outputs": [
    {
     "data": {
      "text/plain": [
       "-0.0091"
      ]
     },
     "execution_count": 18,
     "metadata": {},
     "output_type": "execute_result"
    }
   ],
   "source": [
    "bbcw_ext_l1b1.y_pos"
   ]
  },
  {
   "cell_type": "code",
   "execution_count": 19,
   "metadata": {},
   "outputs": [
    {
     "data": {
      "text/plain": [
       "-0.0034798825226466774"
      ]
     },
     "execution_count": 19,
     "metadata": {},
     "output_type": "execute_result"
    }
   ],
   "source": [
    "-1.4733791126352925e-12*(350/(-0.0091**2)) -0.0034861098223619574"
   ]
  },
  {
   "cell_type": "code",
   "execution_count": 20,
   "metadata": {},
   "outputs": [
    {
     "data": {
      "text/plain": [
       "True"
      ]
     },
     "execution_count": 20,
     "metadata": {},
     "output_type": "execute_result"
    }
   ],
   "source": [
    "mad.input('value, 2 + -1;')"
   ]
  },
  {
   "cell_type": "code",
   "execution_count": null,
   "metadata": {},
   "outputs": [],
   "source": [
    "kq4.r1b1 := -1.4733791126352925e-12*(on_{wire_ir1.name}*I_{wire_ir1.name}/{wire_ir1.y_pos**2}) -0.0034861098223619574"
   ]
  },
  {
   "cell_type": "code",
   "execution_count": 21,
   "metadata": {},
   "outputs": [
    {
     "name": "stdout",
     "output_type": "stream",
     "text": [
      "\n",
      "  ++++++++++++++++++++++++++++++++++++++++++++\n",
      "  +     MAD-X 5.05.01  (64 bit, Linux)       +\n",
      "  + Support: mad@cern.ch, http://cern.ch/mad +\n",
      "  + Release   date: 2019.06.07               +\n",
      "  + Execution date: 2020.05.07 18:24:19      +\n",
      "  ++++++++++++++++++++++++++++++++++++++++++++\n"
     ]
    }
   ],
   "source": [
    "madx = Madx()"
   ]
  },
  {
   "cell_type": "code",
   "execution_count": 28,
   "metadata": {},
   "outputs": [
    {
     "name": "stdout",
     "output_type": "stream",
     "text": [
      "2+(0-1)            =                  1 ;\n"
     ]
    },
    {
     "data": {
      "text/plain": [
       "True"
      ]
     },
     "execution_count": 28,
     "metadata": {},
     "output_type": "execute_result"
    }
   ],
   "source": [
    "a = -1\n",
    "madx.input(f'value, 2 + ({a});')"
   ]
  },
  {
   "cell_type": "code",
   "execution_count": 29,
   "metadata": {},
   "outputs": [],
   "source": [
    "cleanall()"
   ]
  },
  {
   "cell_type": "code",
   "execution_count": null,
   "metadata": {},
   "outputs": [],
   "source": []
  }
 ],
 "metadata": {
  "kernelspec": {
   "display_name": "Python 3",
   "language": "python",
   "name": "python3"
  },
  "language_info": {
   "codemirror_mode": {
    "name": "ipython",
    "version": 3
   },
   "file_extension": ".py",
   "mimetype": "text/x-python",
   "name": "python",
   "nbconvert_exporter": "python",
   "pygments_lexer": "ipython3",
   "version": "3.6.5"
  }
 },
 "nbformat": 4,
 "nbformat_minor": 4
}
