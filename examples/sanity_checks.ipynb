{
 "cells": [
  {
   "cell_type": "code",
   "execution_count": 1,
   "metadata": {},
   "outputs": [
    {
     "name": "stdout",
     "output_type": "stream",
     "text": [
      "/afs/cern.ch/work/a/apoyet/bbcw2mad/examples\n"
     ]
    }
   ],
   "source": [
    "!pwd"
   ]
  },
  {
   "cell_type": "code",
   "execution_count": 2,
   "metadata": {},
   "outputs": [
    {
     "name": "stdout",
     "output_type": "stream",
     "text": [
      "/cvmfs/sft.cern.ch/lcg/views/LCG_96python3/x86_64-centos7-gcc8-opt/bin/python\n"
     ]
    }
   ],
   "source": [
    "!which python"
   ]
  },
  {
   "cell_type": "markdown",
   "metadata": {},
   "source": [
    "# BBCW2MAD SANITY CHECKS\n",
    "---\n",
    "\n",
    "In this notebook, we follow the new approach proposed in [1] and install the beam-beam wire compensators on the LHC, testing the effect on the tunes and orbit. "
   ]
  },
  {
   "cell_type": "code",
   "execution_count": 3,
   "metadata": {},
   "outputs": [],
   "source": [
    "# %% Import few packages\n",
    "from cpymad.madx import Madx\n",
    "#import madxp\n",
    "from madxp import cpymadTool as mt\n",
    "from collections import OrderedDict\n",
    "import numpy as np\n",
    "import pandas as pd\n",
    "from matplotlib import pylab as plt\n",
    "from IPython.display import display\n",
    "import time\n",
    "import os\n",
    "import warnings\n",
    "warnings.filterwarnings('always')\n",
    "from cl2pd import importData\n",
    "\n",
    "#bbcw2mad package\n",
    "from bbcw2mad.WireObj import *\n",
    "\n",
    "#phd-tools\n",
    "from phd_toolbox import constants\n",
    "from phd_toolbox import wires_tools\n"
   ]
  },
  {
   "cell_type": "code",
   "execution_count": 18,
   "metadata": {},
   "outputs": [],
   "source": [
    "# %%\n",
    "# ============================================================================================================ #\n",
    "#                                              WORKFLOW FUNCTIONS                                              #\n",
    "# ============================================================================================================ #\n",
    "\n",
    "def power_wires(mad,wires_lst,table_out):\n",
    "    '''\n",
    "    Function to turn on the wires as done in the LHC Run 3.\n",
    "    \n",
    "    Args:\n",
    "        mad: madx instance\n",
    "        wires_lst: list, contains the wires under the form of WireObj instances\n",
    "        table_out: str, name of the madx table to be added to \"twiss_\" and \"summary_\" \n",
    "    Return: \n",
    "        my_output_dict: dict, contains the output info to be added to the working flow DF.\n",
    "    '''\n",
    "    start_time = time.time()\n",
    "    \n",
    "    # Turn off BB\n",
    "    mad.input(f'''\n",
    "    ON_BB_CHARGE=0;\n",
    "    ''')\n",
    "\n",
    "    for wire in wires_lst:\n",
    "        wire.switch_wire(on=True)\n",
    "        wire.print_lense()\n",
    "\n",
    "    mad.input(f'''\n",
    "    use, sequence=lhcb1;\n",
    "    twiss, table=twiss_{table_out};\n",
    "    exec, clonesumm('summary_{table_out}');\n",
    "    !ON_BB_CHARGE=1;\n",
    "    ''')\n",
    "    \n",
    "    my_output_dict = get_status(mad)\n",
    "    elapsed_time = time.time() - start_time\n",
    "\n",
    "    my_output_dict['elapsed_time'] = elapsed_time\n",
    "    return my_output_dict\n",
    "\n",
    "def get_status(mad):\n",
    "    start_time = time.time()\n",
    "    variables=mt.variables_dict(mad)\n",
    "    my_output_dict= {'constant_df': variables['constant_df'],\n",
    "            'independent_variable_df': variables['independent_variable_df'],\n",
    "            'dependent_variable_df': variables['dependent_variable_df'],\n",
    "            'sequences_df': mt.sequences_df(mad),\n",
    "            'beams_df': mt.beams_df(mad),\n",
    "            'tables_list': list(mad.table)}\n",
    "    elapsed_time = time.time() - start_time\n",
    "    my_output_dict['elapsed_time'] = elapsed_time\n",
    "    return my_output_dict"
   ]
  },
  {
   "cell_type": "markdown",
   "metadata": {},
   "source": [
    "## Checks on B1 \n",
    "---"
   ]
  },
  {
   "cell_type": "code",
   "execution_count": 19,
   "metadata": {},
   "outputs": [],
   "source": [
    "# %% Definition of the parameters that are not knobs of the beam sequence (no strings please!)\n",
    "parameter_dict={\n",
    "    # =============================================================================\n",
    "    # Beam parameters\n",
    "    # =============================================================================\n",
    "    ## LHC beam 1 (clockwise), LHC beam 2 (clockwise), LHC beam 2 (counterclockwise) \n",
    "    'par_mylhcbeam': 1, \n",
    "    ## beam normalized emittance [m rad]\n",
    "    'par_beam_norm_emit': 2.5e-6,\n",
    "    ## [m]\n",
    "    'par_beam_sigt': 0.075,\n",
    "    ## [-]           \n",
    "    'par_beam_sige': 1.1e-4,\n",
    "    ## [-]                    \n",
    "    'par_beam_npart': 1.1e11, \n",
    "    ## [GeV]            \n",
    "    'par_beam_energy_tot': 7000,\n",
    "    ## [A]          \n",
    "    'par_oct_current': 350,\n",
    "    ## [-]            \n",
    "    'par_chromaticity': 15,\n",
    "    ## [MV]          \n",
    "    'par_vrf_total': 16.,\n",
    "    ## Tunes with fractional part          \n",
    "    'par_qx0': 62.31, 'par_qy0': 60.32,\n",
    "    # =============================================================================\n",
    "    # Beam-Beam configuration \n",
    "    # =============================================================================\n",
    "    ## install the BB elements [0,1]\n",
    "    'par_on_bb_switch': 1,\n",
    "    ## if 1 lumi leveling in ip8 is applied and q/q' match is done with bb off [0,1]\n",
    "    'par_on_collision': 1, \n",
    "    ## bunch separation [ns]               \n",
    "    'par_b_t_dist': 25.,   \n",
    "    ## default value for the number of additionnal parasitic encounters inside D1              \n",
    "    'par_n_inside_D1': 5,                 \n",
    "    ## number of slices for head-on in IR1 [between 0 and 201]\n",
    "    'par_nho_IR1': 11, 'par_nho_IR2': 11, 'par_nho_IR5': 11, 'par_nho_IR8': 11, \n",
    "    ## flag to install the Crab Cavities [0, 1]\n",
    "    'par_install_crabcavities': 0,\n",
    "    # =============================================================================\n",
    "    # Beam-Beam Wire Compensators \n",
    "    # =============================================================================\n",
    "    ## IR1\n",
    "    'par_s_w_ir1': 19848.217400,              # s-position [m]\n",
    "    'par_x_w_ir1': 0,                         # Horizontal transverse position of the wire, wrt to the beam [m]\n",
    "    'par_y_w_ir1': 0.0091,                    # Vertical transverse position of the wire, wrt to the beam [m]\n",
    "    'par_I_w_ir1': 350,                       # Wire Current [A]\n",
    "    ## IR5\n",
    "    'par_s_w_ir5': 6516.623433,   # s-position [m]\n",
    "    'par_x_w_ir5': 0.01223,   # Horizontal transverse position of the wire, wrt to the beam [m]\n",
    "    'par_y_w_ir5': 0,   # Vertical transverse position of the wire, wrt to the beam [m]\n",
    "    'par_I_w_ir5': 350,   # Wire Current [A]\n",
    "    # =============================================================================\n",
    "    # Leveling in IP8   \n",
    "    # =============================================================================\n",
    "    # leveled luminosity in IP8 (considered if par_on_collision=1) [Hz/cm2]\n",
    "    'par_lumi_ip8': 2e32,                 \n",
    "    # These variables define the number of Head-On collisions in the 4 IPs\n",
    "    'par_nco_IP1': 2544, 'par_nco_IP2': 2215, 'par_nco_IP5': 2544, 'par_nco_IP8': 2332,\n",
    "    # =============================================================================\n",
    "    # Errors and corrections \n",
    "    # =============================================================================\n",
    "    # Select seed for errors\n",
    "    'par_myseed': 0,\n",
    "    # Set this flag to correct the errors of D2 in the NLC \n",
    "    # (warning: for now only correcting b3 of D2, still in development)\n",
    "    'par_correct_for_D2': 0,\n",
    "    # Set this flag to correct the errors of MCBXF in the NLC \n",
    "    # (warning: this might be less reproducable in reality, use with care)\n",
    "    'par_correct_for_MCBX': 0,\n",
    "    'par_off_all_errors': 0,\n",
    "    'par_on_errors_LHC': 0,\n",
    "    'par_on_errors_MBH': 0,\n",
    "    'par_on_errors_Q5': 0,\n",
    "    'par_on_errors_Q4': 0,\n",
    "    'par_on_errors_D2': 0,\n",
    "    'par_on_errors_D1': 0,\n",
    "    'par_on_errors_IT': 0,\n",
    "    'par_on_errors_MCBRD': 0,\n",
    "    'par_on_errors_MCBXF': 0,\n",
    "    # =============================================================================\n",
    "    # Additional parameters\n",
    "    # =============================================================================\n",
    "    # parameter for having verbose output [0,1]\n",
    "    'par_verbose': 1,\n",
    "    # definition of the slicefactor used in the makethin\n",
    "    'par_slicefactor': 4,\n",
    "    # number of optics to use\n",
    "    'par_optics_number':27,\n",
    "    # Specify machine version\n",
    "    'ver_lhc_run' : 3, 'ver_hllhc_optics' : 0,\n",
    "}\n"
   ]
  },
  {
   "cell_type": "code",
   "execution_count": 20,
   "metadata": {},
   "outputs": [
    {
     "name": "stdout",
     "output_type": "stream",
     "text": [
      "\n",
      "  ++++++++++++++++++++++++++++++++++++++++++++\n",
      "  +     MAD-X 5.05.01  (64 bit, Linux)       +\n",
      "  + Support: mad@cern.ch, http://cern.ch/mad +\n",
      "  + Release   date: 2019.06.07               +\n",
      "  + Execution date: 2020.05.04 16:50:02      +\n",
      "  ++++++++++++++++++++++++++++++++++++++++++++\n"
     ]
    }
   ],
   "source": [
    "mad = Madx()"
   ]
  },
  {
   "cell_type": "code",
   "execution_count": 21,
   "metadata": {},
   "outputs": [],
   "source": [
    "mad.input('option, -echo,-warn,-info;')\n",
    "mad.input('call, file=seq_b1.seq;')\n",
    "mad.call('/afs/cern.ch/user/s/sterbini/public/tracking_tools/tools/macro.madx') \n",
    "mad.call('tools/optics_indep_macros.madx')"
   ]
  },
  {
   "cell_type": "code",
   "execution_count": 22,
   "metadata": {},
   "outputs": [
    {
     "name": "stdout",
     "output_type": "stream",
     "text": [
      "{'current': 350,\n",
      " 'mad_inst': <cpymad.madx.Madx object at 0x7f1da506e7f0>,\n",
      " 'name': 'bbcw_int_l1b1',\n",
      " 'nb': 110000000000.0,\n",
      " 's_pos': 19848.2174,\n",
      " 'sequence': 'lhcb1',\n",
      " 'sigx': 0.0003333333333333333,\n",
      " 'sigy': 0.0003333333333333333,\n",
      " 'switch': 0,\n",
      " 'x_co': 0,\n",
      " 'x_pos': 0,\n",
      " 'xma': 0,\n",
      " 'y_co': 0,\n",
      " 'y_pos': 0.0091,\n",
      " 'yma': 0.0091}\n"
     ]
    }
   ],
   "source": [
    "# Definition of the wire (ir1-like wire)\n",
    "sequence_w = f'lhcb{parameter_dict[\"par_mylhcbeam\"]}'\n",
    "mad_inst_w = mad\n",
    "\n",
    "s_w_ir1 = parameter_dict['par_s_w_ir1']\n",
    "x_w_ir1 = parameter_dict['par_x_w_ir1']\n",
    "y_w_ir1 = parameter_dict['par_y_w_ir1']\n",
    "I_w_ir1 = parameter_dict['par_I_w_ir1']\n",
    "\n",
    "my_bbcw_test = WireObj('bbcw_int_l1b1',I_w_ir1,s_w_ir1,x_w_ir1,y_w_ir1,parameter_dict['par_beam_npart'],mad_inst=mad_inst_w,sequence=sequence_w)\n",
    "\n",
    "my_bbcw_test.describe()\n",
    "wires_lst = [my_bbcw_test]\n",
    "my_workflow_dict = OrderedDict()"
   ]
  },
  {
   "cell_type": "code",
   "execution_count": 23,
   "metadata": {},
   "outputs": [
    {
     "name": "stdout",
     "output_type": "stream",
     "text": [
      "enter Twiss module\n",
      "  \n",
      "iteration:   1 error:   5.122208E-07 deltap:   0.000000E+00\n",
      "orbit:   1.420940E-08  5.810138E-10 -3.224612E-08 -4.099646E-10 -6.521956E-08 -5.518409E-08\n",
      "\n",
      "++++++ table: summ\n",
      "\n",
      "            length             orbit5               alfa            gammatr \n",
      "        26658.8832    6.521956412e-08    0.0003481891584        53.59106378 \n",
      "\n",
      "                q1                dq1            betxmax              dxmax \n",
      "        62.3099992        15.00109242        8093.846534        3.039960097 \n",
      "\n",
      "             dxrms             xcomax             xcorms                 q2 \n",
      "        1.41726492     0.007742819485     0.001013652373        60.31999917 \n",
      "\n",
      "               dq2            betymax              dymax              dyrms \n",
      "       15.00790243        8097.308728        3.583153378        0.657213627 \n",
      "\n",
      "            ycomax             ycorms             deltap            synch_1 \n",
      "     0.00972582359     0.001801863231                  0                  0 \n",
      "\n",
      "           synch_2            synch_3            synch_4            synch_5 \n",
      "                 0                  0                  0                  0 \n",
      "\n",
      "            nflips \n",
      "                 0 \n"
     ]
    },
    {
     "data": {
      "text/plain": [
       "True"
      ]
     },
     "execution_count": 23,
     "metadata": {},
     "output_type": "execute_result"
    }
   ],
   "source": [
    "mad.input('''\n",
    "use, sequence=lhcb1;\n",
    "twiss, table=twiss_after_machine_tuning;\n",
    "exec, clonesumm('summary_after_machine_tuning');\n",
    "''')"
   ]
  },
  {
   "cell_type": "code",
   "execution_count": 24,
   "metadata": {},
   "outputs": [
    {
     "name": "stdout",
     "output_type": "stream",
     "text": [
      "enter Twiss module\n",
      "  \n",
      "iteration:   1 error:   7.462047E-05 deltap:   0.000000E+00\n",
      "orbit:   5.292879E-08 -7.853671E-10 -8.389496E-05 -1.236550E-06 -3.184079E-08 -2.769724E-08\n",
      "  \n",
      "iteration:   2 error:   2.122107E-08 deltap:   0.000000E+00\n",
      "orbit:   6.997913E-08 -1.077963E-09 -8.390748E-05 -1.236741E-06 -3.272704E-08 -2.761750E-08\n",
      "\n",
      "++++++ table: summ\n",
      "\n",
      "            length             orbit5               alfa            gammatr \n",
      "        26658.8832    3.272703819e-08    0.0003481907875        53.59093841 \n",
      "\n",
      "                q1                dq1            betxmax              dxmax \n",
      "       62.31764043        13.55143782        8462.774908        3.044527018 \n",
      "\n",
      "             dxrms             xcomax             xcorms                 q2 \n",
      "       1.416951788     0.007742705163     0.001013670776        60.31670312 \n",
      "\n",
      "               dq2            betymax              dymax              dyrms \n",
      "       15.21118845        8238.403905        3.625249862       0.6663543524 \n",
      "\n",
      "            ycomax             ycorms             deltap            synch_1 \n",
      "    0.009792290407     0.001771551556                  0                  0 \n",
      "\n",
      "           synch_2            synch_3            synch_4            synch_5 \n",
      "                 0                  0                  0                  0 \n",
      "\n",
      "            nflips \n",
      "                 0 \n"
     ]
    }
   ],
   "source": [
    "twiss_before = mad.table.twiss_after_machine_tuning.dframe()\n",
    "x_bef = twiss_before[twiss_before['name']=='bbcw_int_l1b1:1']['x'].values[0]\n",
    "y_bef = twiss_before[twiss_before['name']=='bbcw_int_l1b1:1']['y'].values[0]\n",
    "qx_bef = mad.table.summary_after_machine_tuning['q1'][0]\n",
    "qy_bef = mad.table.summary_after_machine_tuning['q2'][0]\n",
    "\n",
    "betx_w = twiss_before[twiss_before['name']=='bbcw_int_l1b1:1']['betx'].values[0]\n",
    "bety_w = twiss_before[twiss_before['name']=='bbcw_int_l1b1:1']['bety'].values[0]\n",
    "\n",
    "# Update wire position\n",
    "for wire in wires_lst:\n",
    "    wire.get_closed_orbit(table_input='twiss_after_machine_tuning')\n",
    "mad.input('option, bborbit=true;')\n",
    "my_workflow_dict['turn_on_wires'] = power_wires(mad,wires_lst,table_out='b1_wires')\n",
    "\n",
    "twiss_after = mad.table.twiss_b1_wires.dframe()\n",
    "\n",
    "x_aft = twiss_after[twiss_after['name']=='bbcw_int_l1b1:1']['x'].values[0]\n",
    "y_aft = twiss_after[twiss_after['name']=='bbcw_int_l1b1:1']['y'].values[0]\n",
    "qx_aft = mad.table.summary_b1_wires['q1'][0]\n",
    "qy_aft = mad.table.summary_b1_wires['q2'][0]\n",
    "\n",
    "dx = x_aft - x_bef\n",
    "dy = y_aft - y_bef\n",
    "dqx = qx_aft - qx_bef\n",
    "dqy = qy_aft - qy_bef"
   ]
  },
  {
   "cell_type": "code",
   "execution_count": 25,
   "metadata": {},
   "outputs": [],
   "source": [
    "from cl2pd import particle\n",
    "\n",
    "# theory \n",
    "\n",
    "dx_th = wires_tools.orbit_shift(I_L=my_bbcw_test.current, r_w=my_bbcw_test.y_pos, betx=betx_w, bety=bety_w, qx=qx_bef, qy=qy_bef, phi_w=np.pi/2, Brho=particle.setTotalEnergy_GeV(7000)['magneticRigidity_Tm'])[0]\n",
    "dy_th = wires_tools.orbit_shift(I_L=my_bbcw_test.current, r_w=my_bbcw_test.y_pos, betx=betx_w, bety=bety_w, qx=qx_bef, qy=qy_bef, phi_w=np.pi/2, Brho=particle.setTotalEnergy_GeV(7000)['magneticRigidity_Tm'])[1]\n",
    "\n",
    "dqx_th = wires_tools.tune_shift(I_L=my_bbcw_test.current, r_w=my_bbcw_test.y_pos, betx=betx_w, bety=bety_w, phi_w=np.pi/2, Brho=particle.setTotalEnergy_GeV(7000)['magneticRigidity_Tm'])[0]\n",
    "dqy_th = wires_tools.tune_shift(I_L=my_bbcw_test.current, r_w=my_bbcw_test.y_pos, betx=betx_w, bety=bety_w, phi_w=np.pi/2, Brho=particle.setTotalEnergy_GeV(7000)['magneticRigidity_Tm'])[1]\n"
   ]
  },
  {
   "cell_type": "code",
   "execution_count": 26,
   "metadata": {},
   "outputs": [
    {
     "name": "stdout",
     "output_type": "stream",
     "text": [
      "##### Orbit shift #####\n",
      "+++ From MAD +++\n",
      "dx = 0.00023799976165095338 mm\n",
      "dy = 0.116554820115494 mm\n",
      "+++ From formula +++\n",
      "dx = 1.738999474844759e-17 mm\n",
      "dy = 0.11508584106018811 mm\n",
      "+++ Error +++\n",
      "err_dx = 1368601687888274.2 %\n",
      "err_dy = 1.276420315282436 %\n",
      "\n",
      "##### Tune shift #####\n",
      "+++ From MAD +++\n",
      "dqx = 0.007641229462038268\n",
      "dqy = -0.003296052691844409\n",
      "+++ From formula +++\n",
      "dqx = 0.007308732629398052\n",
      "dqy = -0.0031716471379402626\n",
      "+++ Error +++\n",
      "err_dqx = 4.549309018403655 %\n",
      "err_dqy = -3.9224273222568495 %\n"
     ]
    }
   ],
   "source": [
    "# results\n",
    "\n",
    "print('##### Orbit shift #####')\n",
    "print('+++ From MAD +++')\n",
    "print(f'dx = {dx*1e3} mm')\n",
    "print(f'dy = {dy*1e3} mm')\n",
    "print('+++ From formula +++')\n",
    "print(f'dx = {dx_th*1e3} mm')\n",
    "print(f'dy = {dy_th*1e3} mm')\n",
    "print('+++ Error +++')\n",
    "print(f'err_dx = {100*(dx-dx_th)/np.abs(dx_th)} %')\n",
    "print(f'err_dy = {100*(dy-dy_th)/np.abs(dy_th)} %\\n')\n",
    "\n",
    "print('##### Tune shift #####')\n",
    "print('+++ From MAD +++')\n",
    "print(f'dqx = {dqx}')\n",
    "print(f'dqy = {dqy}')\n",
    "print('+++ From formula +++')\n",
    "print(f'dqx = {dqx_th}')\n",
    "print(f'dqy = {dqy_th}')\n",
    "print('+++ Error +++')\n",
    "print(f'err_dqx = {100*(dqx-dqx_th)/np.abs(dqx_th)} %')\n",
    "print(f'err_dqy = {100*(dqy-dqy_th)/np.abs(dqy_th)} %')"
   ]
  }
 ],
 "metadata": {
  "kernelspec": {
   "display_name": "Python 3",
   "language": "python",
   "name": "python3"
  },
  "language_info": {
   "codemirror_mode": {
    "name": "ipython",
    "version": 3
   },
   "file_extension": ".py",
   "mimetype": "text/x-python",
   "name": "python",
   "nbconvert_exporter": "python",
   "pygments_lexer": "ipython3",
   "version": "3.6.5"
  }
 },
 "nbformat": 4,
 "nbformat_minor": 4
}
